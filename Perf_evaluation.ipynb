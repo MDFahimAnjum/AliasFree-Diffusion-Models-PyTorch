{
  "cells": [
    {
      "cell_type": "markdown",
      "metadata": {},
      "source": [
        "# Performance Evaluation\n",
        "We will evaluate Models using Generated and Training Images "
      ]
    },
    {
      "cell_type": "markdown",
      "metadata": {},
      "source": [
        "1. Set the paths and the models to eval"
      ]
    },
    {
      "cell_type": "code",
      "execution_count": null,
      "metadata": {
        "id": "YLHb33i0cfPc"
      },
      "outputs": [],
      "source": [
        "import os\n",
        "\n",
        "# Add the root directory of generated images where each folder contains images for one model\n",
        "rootdir='E:\\MNIST'\n",
        "# Set the original images path\n",
        "original_image_path= 'E:\\MNIST'\n",
        "\n",
        "# unet variants\n",
        "all_unet_v=[1,2,3]\n",
        "\n",
        "#dataset name\n",
        "dataname='MNIST'"
      ]
    },
    {
      "cell_type": "markdown",
      "metadata": {},
      "source": [
        "2. Import and set dir"
      ]
    },
    {
      "cell_type": "code",
      "execution_count": 2,
      "metadata": {
        "id": "7-2T7E3fILa1"
      },
      "outputs": [],
      "source": [
        "from torch_fidelity import calculate_metrics\n",
        "import os\n",
        "import numpy as np\n",
        "import pickle\n",
        "\n",
        "# Change the current working directory\n",
        "os.chdir(rootdir)\n",
        "current_directory = os.getcwd() #parameters\n",
        "# Verify the change\n",
        "print(\"Current working directory:\", current_directory)\n",
        "\n",
        "# make folder to save the eval results\n",
        "metric_savepath= os.path.join(current_directory,\"eval\")\n",
        "os.makedirs(metric_savepath, exist_ok=True)"
      ]
    },
    {
      "cell_type": "markdown",
      "metadata": {},
      "source": [
        "3. Run the Evals"
      ]
    },
    {
      "cell_type": "code",
      "execution_count": null,
      "metadata": {
        "colab": {
          "base_uri": "https://localhost:8080/"
        },
        "id": "Ip1qolTVIq55",
        "outputId": "a4764a78-308a-4127-9e7a-73e0d4104d13"
      },
      "outputs": [],
      "source": [
        "# details of the function: https://torch-fidelity.readthedocs.io/en/latest/usage_api.html\n",
        "\n",
        "metrics_all=[]\n",
        "print(f\"Ref: {original_image_path}\")\n",
        "for i in all_unet_v:\n",
        "  gen_image_path=os.path.join(current_directory,f\"{dataname}_{i}\")\n",
        "  print(f\"Test: {gen_image_path}\")\n",
        "  metrics = calculate_metrics(input2=original_image_path,\n",
        "                              input1=gen_image_path,\n",
        "                              cuda=True,\n",
        "                              isc=True,\n",
        "                              fid=True,\n",
        "                              kid=True,\n",
        "                              verbose=True,\n",
        "                              )\n",
        "  formatted_metrics = \"\\n\".join([f\"{key}: {value}\" for key, value in metrics.items()])\n",
        "\n",
        "  # Print the formatted dictionary\n",
        "  print(formatted_metrics)\n",
        "\n",
        "\n",
        "  # Save the formatted string to a text file in the specified directory\n",
        "  with open(os.path.join(metric_savepath, f\"eval_{dataname}_{i}.txt\"), \"w\") as file:\n",
        "      file.write(formatted_metrics)\n",
        "\n",
        "with open(os.path.join(metric_savepath, f\"eval_{dataname}.pkl\"), 'wb') as file:\n",
        "    pickle.dump(metrics_all, file)\n",
        "#print(metrics)"
      ]
    }
  ],
  "metadata": {
    "accelerator": "GPU",
    "colab": {
      "gpuType": "T4",
      "provenance": []
    },
    "kernelspec": {
      "display_name": "Python 3",
      "name": "python3"
    },
    "language_info": {
      "codemirror_mode": {
        "name": "ipython",
        "version": 3
      },
      "file_extension": ".py",
      "mimetype": "text/x-python",
      "name": "python",
      "nbconvert_exporter": "python",
      "pygments_lexer": "ipython3",
      "version": "3.9.18"
    }
  },
  "nbformat": 4,
  "nbformat_minor": 0
}

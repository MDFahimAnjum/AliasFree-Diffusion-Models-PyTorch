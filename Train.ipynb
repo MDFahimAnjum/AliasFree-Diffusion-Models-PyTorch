{
 "cells": [
  {
   "cell_type": "markdown",
   "metadata": {},
   "source": [
    "# Train Diffusion Models"
   ]
  },
  {
   "cell_type": "markdown",
   "metadata": {},
   "source": [
    "### Load Libraries"
   ]
  },
  {
   "cell_type": "code",
   "execution_count": null,
   "metadata": {},
   "outputs": [],
   "source": [
    "from modules.ddpm_tasks import ddpm_run\n",
    "import numpy as np\n",
    "import os\n",
    "current_directory = os.getcwd() "
   ]
  },
  {
   "cell_type": "markdown",
   "metadata": {},
   "source": [
    "### Set parameters"
   ]
  },
  {
   "cell_type": "code",
   "execution_count": null,
   "metadata": {},
   "outputs": [],
   "source": [
    "datapath = os.path.join(current_directory,\"data\\MNIST\\mnist_train_small.csv\")\n",
    "#datapath = os.path.join(current_directory,\"data\\MNIST-M-6000\")\n",
    "#datapath = os.path.join(current_directory,\"data\\cifar10-32 selected\\CIFAR 10-32-10k\")\n",
    "#datapath = os.path.join(current_directory,\"data\\CelebA 64X64\\local_train\")\n",
    "\n",
    "params={\n",
    "    'unet_v': 0,\n",
    "    'epochs': 100,\n",
    "    'batchsize': 16,\n",
    "    'image_size': 32,\n",
    "    'image_channels': 1,\n",
    "    'device': \"cuda\",\n",
    "    'lr': 3e-4,\n",
    "    'noise_steps': 1000,\n",
    "    'image_gen_per_epoch': 8,\n",
    "    'f_kernel': None,\n",
    "    'f_beta': None,\n",
    "    'f_down': None,\n",
    "    'f_up': None,\n",
    "    'save_trining': False,\n",
    "    'gen_per_batch': 200,\n",
    "    'gen_total': 2000,\n",
    "    'seed': 42,\n",
    "    'collage_n_per_image': 400,\n",
    "    'collage_n': 2000,\n",
    "    'dataset': \"MNIST\",\n",
    "    'dataset_dir':  datapath\n",
    "}"
   ]
  },
  {
   "cell_type": "markdown",
   "metadata": {},
   "source": [
    "### Train Baseline Model"
   ]
  },
  {
   "cell_type": "code",
   "execution_count": null,
   "metadata": {},
   "outputs": [],
   "source": [
    "ddpm_run(params)"
   ]
  },
  {
   "cell_type": "markdown",
   "metadata": {},
   "source": [
    "### Set New Parameters for the Improved Models"
   ]
  },
  {
   "cell_type": "code",
   "execution_count": null,
   "metadata": {},
   "outputs": [],
   "source": [
    "params['f_kernel']=3\n",
    "params['f_beta']=2\n",
    "params['f_down']=np.pi/2\n",
    "params['f_up']=np.pi/2\n",
    "\n",
    "unet_v_all=[1,2,3]#[1,2,3,4]"
   ]
  },
  {
   "cell_type": "markdown",
   "metadata": {},
   "source": [
    "### Train Improved Models"
   ]
  },
  {
   "cell_type": "code",
   "execution_count": null,
   "metadata": {},
   "outputs": [],
   "source": [
    "for unet_v in unet_v_all:\n",
    "    params['unet_v']=unet_v\n",
    "    ddpm_run(params)"
   ]
  }
 ],
 "metadata": {
  "language_info": {
   "name": "python"
  }
 },
 "nbformat": 4,
 "nbformat_minor": 2
}
